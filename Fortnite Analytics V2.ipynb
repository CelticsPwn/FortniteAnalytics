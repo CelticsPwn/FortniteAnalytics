{
 "cells": [
  {
   "cell_type": "code",
   "execution_count": 2,
   "metadata": {},
   "outputs": [],
   "source": [
    "import numpy as np\n",
    "import matplotlib.pylab as plt\n",
    "MINIMAP_SIZE = 280\n"
   ]
  },
  {
   "cell_type": "code",
   "execution_count": 25,
   "metadata": {},
   "outputs": [
    {
     "name": "stdout",
     "output_type": "stream",
     "text": [
      "(4940, 4940, 3)\n"
     ]
    },
    {
     "name": "stderr",
     "output_type": "stream",
     "text": [
      "Clipping input data to the valid range for imshow with RGB data ([0..1] for floats or [0..255] for integers).\n"
     ]
    },
    {
     "data": {
      "image/png": "[encoded data removed]",
      "text/plain": [
       "<Figure size 432x288 with 1 Axes>"
      ]
     },
     "metadata": {},
     "output_type": "display_data"
    }
   ],
   "source": [
    "s4map = plt.imread('Fortnite-map-season4-high-res.jpg')\n",
    "test5x5 = plt.imread('test5x5.jpg')\n",
    "test2x2 = plt.imread('testTile2x2.jpg')\n",
    "testTile = plt.imread('test tile.jpg')\n",
    "checked = np.zeros((s4map.shape[0], s4map.shape[1]))\n",
    "\n",
    "def extractGreenArray(image):\n",
    "    width = image.shape[0]\n",
    "    height = image.shape[1]\n",
    "    green = np.zeros((image.shape[0], image.shape[1]))\n",
    "    for i in range(width):\n",
    "        for j in range(height):\n",
    "            green[i][j] = image[i][j][1]\n",
    "    return green\n",
    "    \n",
    "def compressImage(image):\n",
    "    for i in range(image.size):\n",
    "        for j in range(image[0].size):\n",
    "            print(\"here\")\n",
    "            \n",
    "def greenArrayToImage(array):\n",
    "    width = array.shape[0]\n",
    "    height = array.shape[1]\n",
    "    image = np.zeros((width, height, 3))\n",
    "    for i in range(width):\n",
    "        for j in range(height):\n",
    "            image[i][j][0] = 0\n",
    "            image[i][j][1] = array[i][j]\n",
    "            image[i][j][2] = 0\n",
    "    return image\n",
    "            \n",
    "print(s4map.shape)\n",
    "plt.imshow(greenArrayToImage(extractGreenArray(s4map)))\n",
    "plt.show()\n",
    "#plt.imshow(greenArrayToImage(extractGreenImage((s4map))))\n",
    "#plt.show()"
   ]
  },
  {
   "cell_type": "code",
   "execution_count": null,
   "metadata": {},
   "outputs": [],
   "source": []
  }
 ],
 "metadata": {
  "kernelspec": {
   "display_name": "Python 3",
   "language": "python",
   "name": "python3"
  },
  "language_info": {
   "codemirror_mode": {
    "name": "ipython",
    "version": 3
   },
   "file_extension": ".py",
   "mimetype": "text/x-python",
   "name": "python",
   "nbconvert_exporter": "python",
   "pygments_lexer": "ipython3",
   "version": "3.6.5"
  }
 },
 "nbformat": 4,
 "nbformat_minor": 2
}
